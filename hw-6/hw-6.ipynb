{
 "cells": [
  {
   "metadata": {},
   "cell_type": "markdown",
   "source": "### Homework 6 ",
   "id": "c8ab949f8010280e"
  },
  {
   "metadata": {},
   "cell_type": "markdown",
   "source": [
    "\t1.\tSelect orthogonal matrices. Explain your choice:\n",
    "\n",
    "$A = \\begin{bmatrix} 2 & 0 \\\\ 0 & \\frac{1}{2} \\end{bmatrix}$  \n",
    "$B = \\begin{bmatrix} 0 & -0.5 \\\\ 0.5 & 0 \\end{bmatrix}$  \n",
    "$C = \\begin{bmatrix} 0.6 & -0.8 \\\\ 0.8 & 0.6 \\end{bmatrix}$  \n",
    "$D = \\begin{bmatrix} 0.8 & 0.6 \\\\ 0.6 & -0.8 \\end{bmatrix}$  \n",
    "$E = \\begin{bmatrix} 0 & 1 \\\\ 1 & 0 \\end{bmatrix}$  \n",
    "\n",
    "Для того щоб зясувати чи є матриця ортогональною чи ні ми використовуватимемо метод множення матриці на свою транспоновану копію, в результаті повинні отримати одинична матриця.   \n",
    "\n",
    "Отже робимо перевірку:  "
   ],
   "id": "632d7637d07d226a"
  },
  {
   "cell_type": "code",
   "id": "initial_id",
   "metadata": {
    "collapsed": true,
    "ExecuteTime": {
     "end_time": "2024-12-08T16:51:13.620107Z",
     "start_time": "2024-12-08T16:51:13.613262Z"
    }
   },
   "source": [
    "import numpy as np\n",
    "# Матриці\n",
    "A = np.array([[2, 0], [0, 1/2]])\n",
    "B = np.array([[0, -0.5], [0.5, 0]])\n",
    "C = np.array([[0.6, -0.8], [0.8, 0.6]])\n",
    "D = np.array([[0.8, 0.6], [0.6, -0.8]])\n",
    "E = np.array([[0, 1], [1, 0]])\n",
    "\n",
    "# Перевірка ортогональності\n",
    "is_A_orthogonal = np.allclose(A @ A.T, np.eye(A.shape[0]))\n",
    "is_B_orthogonal = np.allclose(B @ B.T, np.eye(B.shape[0]))\n",
    "is_C_orthogonal = np.allclose(C @ C.T, np.eye(C.shape[0]))\n",
    "is_D_orthogonal = np.allclose(D @ D.T, np.eye(D.shape[0]))\n",
    "is_E_orthogonal = np.allclose(E @ E.T, np.eye(E.shape[0]))\n",
    "\n",
    "# Вивід результатів\n",
    "print(\"A ортогональна:\", is_A_orthogonal)\n",
    "print(\"B ортогональна:\", is_B_orthogonal)\n",
    "print(\"C ортогональна:\", is_C_orthogonal)\n",
    "print(\"D ортогональна:\", is_D_orthogonal)\n",
    "print(\"E ортогональна:\", is_E_orthogonal)"
   ],
   "outputs": [
    {
     "name": "stdout",
     "output_type": "stream",
     "text": [
      "A ортогональна: False\n",
      "B ортогональна: False\n",
      "C ортогональна: True\n",
      "D ортогональна: True\n",
      "E ортогональна: True\n"
     ]
    }
   ],
   "execution_count": 6
  },
  {
   "metadata": {},
   "cell_type": "markdown",
   "source": [
    "2. Find vector X for a given vector A as shown in the figure. The center of the star is at the origin.  \n",
    "\n",
    "Для цього ми порахуємо кут між векторам A та X і зробимо поворот вектора на цей кут. Якщо це 5 кутна зірка відповідно кут між двома кутами буде дорівнювати 2пі/5 \n",
    "\n",
    "Далі скористаємось формулою повороту:  \n",
    "\n",
    "$R(\\beta) = \\begin{bmatrix}\n",
    "\\cos(\\beta) & -\\sin(\\beta) \\\\\n",
    "\\sin(\\beta) & \\cos(\\beta)\n",
    "\\end{bmatrix}$\n",
    "\n",
    "отже:\n",
    "\n",
    "$X = R(2\\pi/5) \\cdot A$"
   ],
   "id": "bb38ad1e565f232d"
  },
  {
   "metadata": {},
   "cell_type": "markdown",
   "source": [
    "3. Find a transformation that rotates the polygon around vector c if:  \n",
    "a) $c = [2, 3], angle = -90$  \n",
    "b) $c = [-1, 4], angle = 45$  \n",
    "\n",
    "Для обертання фігури навколо вектора, нам потрібно перенести вектор в початок координат і фігуру також  \n",
    "тобто ми віднімаємо вектор навколо якого потрібно зробити обертання від вектору фігури і потім робимо обертання  \n",
    "І повертаємо потім фігуру на місце додавши вектор.\n",
    "\n",
    "v = це будь який вектор який належить полігону але не дорівнює c \n",
    "\n",
    "$\\mathbf{v}{\\prime} = R \\cdot (\\mathbf{v} - \\mathbf{с}) + \\mathbf{с}$\n",
    "\n",
    "розпишемо матрицю обертання \n",
    "\n",
    "$R(\\theta) =\n",
    "\\begin{bmatrix}\n",
    "\\cos(\\theta) & -\\sin(\\theta) \\\\\n",
    "\\sin(\\theta) & \\cos(\\theta)\n",
    "\\end{bmatrix}$  \n",
    "\n",
    "Розпишемо всі дії у формулі  \n",
    "\n",
    "$R \\cdot (\\mathbf{v} - \\mathbf{c}) =\n",
    "\\begin{bmatrix}\n",
    "\\cos(\\theta) & -\\sin(\\theta) \\\\\n",
    "\\sin(\\theta) & \\cos(\\theta)\n",
    "\\end{bmatrix}\n",
    "\\cdot\n",
    "\\begin{bmatrix}\n",
    "x - cx \\\\\n",
    "y - cy\n",
    "\\end{bmatrix}$\n",
    "\n",
    "Тепер обчислимо кожен випадок окремо   \n",
    "a) $c = [2, 3], angle = -90$  \n",
    "\n",
    "$R = \\begin{bmatrix} 0 & 1 \\\\ -1 & 0 \\end{bmatrix}$  \n",
    "$x{\\prime} = 0 \\cdot (x - 2) + 1 \\cdot (y - 3) + 2 = y - 1$  \n",
    "$y{\\prime} = -1 \\cdot (x - 2) + 0 \\cdot (y - 3) + 3 = -x + 5$  \n",
    "Отже:  \n",
    "$\\mathbf{v}{\\prime} = [y - 1, -x + 5]$\n",
    "\n",
    "b) $c = [-1, 4], angle = 45$  \n",
    "\n",
    "$R = \\begin{bmatrix} \\frac{\\sqrt{2}}{2} & -\\frac{\\sqrt{2}}{2} \\\\ \\frac{\\sqrt{2}}{2} & \\frac{\\sqrt{2}}{2} \\end{bmatrix}$  \n",
    "$x{\\prime} = \\frac{\\sqrt{2}}{2} \\cdot (x + 1) - \\frac{\\sqrt{2}}{2} \\cdot (y - 4) - 1$    \n",
    "$y{\\prime} = \\frac{\\sqrt{2}}{2} \\cdot (x + 1) + \\frac{\\sqrt{2}}{2} \\cdot (y - 4) + 4$  \n",
    "Отже:   \n",
    "$\\mathbf{v}{\\prime} = [x{\\prime}, y{\\prime}]$ \n",
    "тут дуже складне рівняння вийшло, не зумів спростити"
   ],
   "id": "cae6b0736e54c6f6"
  },
  {
   "metadata": {},
   "cell_type": "markdown",
   "source": [
    "4. Find a transformation that flips the polygon\n",
    "as shown in the graph around vertical\n",
    "axis x0 = 4.\n",
    "\n",
    "Для відбиття вздовж осі y використаєм наступну формулу  \n",
    "\n",
    "$R_y = \\begin{bmatrix}\n",
    "-1 & 0 \\\\\n",
    "0 & 1\n",
    "\\end{bmatrix}$\n",
    "\n",
    "перед цим потрібно зсунути вісь відбиття тобто відняти вектор [4,0]  \n",
    "Тоді розрахунок набуде вигляду  \n",
    "$P_rotated = R*(P-[4,0])+[4,0]$\n",
    "\n",
    "\n",
    "$P_rotated =\n",
    "\\begin{bmatrix}\n",
    "-1 & 0 \\\\\n",
    "0 & 1\n",
    "\\end{bmatrix}\n",
    "\\begin{bmatrix}\n",
    "x - 4 \\\\\n",
    "y\n",
    "\\end{bmatrix}\n",
    "+\n",
    "\\begin{bmatrix}\n",
    "4 \\\\\n",
    "0\n",
    "\\end{bmatrix}$\n",
    "\n",
    "\n",
    "$P_rotated =\n",
    "\\begin{bmatrix}\n",
    "-x + 8 \\\\\n",
    "y\n",
    "\\end{bmatrix}$\n",
    "\n"
   ],
   "id": "33072cf9f0de135"
  },
  {
   "metadata": {
    "ExecuteTime": {
     "end_time": "2024-12-08T23:09:39.296350Z",
     "start_time": "2024-12-08T23:09:39.294415Z"
    }
   },
   "cell_type": "code",
   "source": "",
   "id": "f261ee3b78037ef1",
   "outputs": [],
   "execution_count": null
  },
  {
   "metadata": {},
   "cell_type": "code",
   "outputs": [],
   "execution_count": null,
   "source": "",
   "id": "c0fb3d8df67265a"
  }
 ],
 "metadata": {
  "kernelspec": {
   "display_name": "Python 3",
   "language": "python",
   "name": "python3"
  },
  "language_info": {
   "codemirror_mode": {
    "name": "ipython",
    "version": 2
   },
   "file_extension": ".py",
   "mimetype": "text/x-python",
   "name": "python",
   "nbconvert_exporter": "python",
   "pygments_lexer": "ipython2",
   "version": "2.7.6"
  }
 },
 "nbformat": 4,
 "nbformat_minor": 5
}
