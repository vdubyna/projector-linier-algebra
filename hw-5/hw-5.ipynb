{
 "cells": [
  {
   "metadata": {},
   "cell_type": "markdown",
   "source": "## Homework 5",
   "id": "484db8a4245eb0f1"
  },
  {
   "metadata": {},
   "cell_type": "markdown",
   "source": [
    "1. For the given matrices: A(2 x 3), B(2 x 2), C(3 x 3), D(3 x 4) of (n rows x m\n",
    "columns) find which expression are legit:\n",
    "\n",
    "* (a) AB - (2 x 3)(2 x 2) - Не Вірно. Кількість стовпців матриці А не відповідає кількості рядків В\n",
    "* (b) BA - (2 x 2)(2 x 3) - Вірно. Кількість стовпців матриці В відповідає кількості рядків А\n",
    "* (с) AC - (2 x 3)(3 x 3) - Вірно. Кількість стовпців матриці А відповідає кількості рядків С\n",
    "* (d) ACD - (2 x 3)(3 x 3)(3 x 4) = (2 х 3)(3 x 4) - Вірно. Кількість стовпців матриці А відповідає кількості рядків С і результат множення (2 х 3) відповідає матриці D\n",
    "* (e) $D^TA^T$ (4 x 3)(3 x 2) - Вірно. Кількість стовпців матриці D^T відповідає кількості рядків A^T\n",
    "* (f) $CD^T$ - (3 x 3)(4 x 3) - Не Вірно. Кількість стовпців матриці C не відповідає кількості рядків D^T\n",
    "* (g) $(A^TB^T)^TD$ - $((3 x 2)(2 x 2))^T(3 x 4) = ((3 x 2))^T(3 x 4) = (2 x 3)(3 x 4)$ - Вірно.  "
   ],
   "id": "d1f22ca47033d695"
  },
  {
   "metadata": {},
   "cell_type": "markdown",
   "source": [
    "2. Find the matrix that transforms any vector x from 3-dimensional vector space\n",
    "into vector y = 2x.\n",
    "\n",
    "$x = Ax$  \n",
    "\n",
    "$A = \\begin{bmatrix}\n",
    "1 & 0 & 0 \\\\\n",
    "0 & 1 & 0 \\\\\n",
    "0 & 0 & 1\n",
    "\\end{bmatrix}$\n",
    "\n",
    "$2x = 2A$\n",
    "\n",
    "$2A = \\begin{bmatrix}\n",
    "2 & 0 & 0 \\\\\n",
    "0 & 2 & 0 \\\\\n",
    "0 & 0 & 2\n",
    "\\end{bmatrix}$\n",
    "\n",
    "$y = 2Ax$ \n",
    "\n",
    "\n"
   ],
   "id": "be3c175eab7f92d8"
  },
  {
   "metadata": {},
   "cell_type": "markdown",
   "source": [
    "3. Find the matrix that transforms any vector $x = [x1, x2, x3]$ to vector $y = [x1, -2x2, -x3]$\n",
    "\n",
    "$y = A[x1,x2,x3]$\n",
    "\n",
    "Матриця  A, яка перетворює x в y , має вигляд:\n",
    "$A = \\begin{bmatrix}\n",
    "a_{11} & a_{12} & a_{13} \\\\\n",
    "a_{21} & a_{22} & a_{23} \\\\\n",
    "a_{31} & a_{32} & a_{33}\n",
    "\\end{bmatrix}$\n",
    "\n",
    "Тоді\n",
    "* $y_1 = a_{11}x_1 + a_{12}x_2 + a_{13}x_3 = x_1$, отже $a_{11} = 1, a_{12} = 0, a_{13} = 0$\n",
    "* $y_2 = a_{21}x_1 + a_{22}x_2 + a_{23}x_3 = -2x_2$, отже $a_{21} = 0, a_{22} = -2, a_{23} = 0$\n",
    "* $y_3 = a_{31}x_1 + a_{32}x_2 + a_{33}x_3 = -x_3$, отже $a_{31} = 0, a_{32} = 0, a_{33} = -1$\n",
    "\n",
    "Відповідь:\n",
    "\n",
    "$A = \\begin{bmatrix}\n",
    "1 & 0 & 0 \\\\\n",
    "0 & -2 & 0 \\\\\n",
    "0 & 0 & -1\n",
    "\\end{bmatrix}$\n"
   ],
   "id": "ab29a5b77e8baffe"
  },
  {
   "metadata": {},
   "cell_type": "markdown",
   "source": [
    "4. Find the matrix that transforms any vector $x = [x1, x2, x3]$ to vector $y = [x2, -x1, x3]$\n",
    "\n",
    "Застосуємо логіку з попереднього завдання і до цього прикладу\n",
    "\n",
    "* $y_1 = a_{11}x_1 + a_{12}x_2 + a_{13}x_3 = x_2$, отже $a_{11} = 0, a_{12} = 1, a_{13} = 0$\n",
    "* $y_2 = a_{21}x_1 + a_{22}x_2 + a_{23}x_3 = -x_1$, отже $a_{21} = -1, a_{22} = 0, a_{23} = 0$\n",
    "* $y_3 = a_{31}x_1 + a_{32}x_2 + a_{33}x_3 = x_3$, отже $a_{31} = 0, a_{32} = 0, a_{33} = 1$\n",
    "\n",
    "Відповідь:\n",
    "$A = \\begin{bmatrix}\n",
    "0 & 1 & 0 \\\\\n",
    "-1 & 0 & 0 \\\\\n",
    "0 & 0 & 1\n",
    "\\end{bmatrix}$"
   ],
   "id": "e9febbe0fcf96588"
  },
  {
   "metadata": {},
   "cell_type": "markdown",
   "source": [
    "5. Find the rank of the given matrices. Are these matrices invertible? Why?\n",
    "\n",
    "Матриці:\n",
    "\n",
    "$A = \\begin{bmatrix} 1 & 2 \\\\ 3 & 5 \\end{bmatrix}$  \n",
    "$B = \\begin{bmatrix} 1 & 3 & -2 \\\\ 3 & 0 & 6 \\end{bmatrix}$  \n",
    "$C = \\begin{bmatrix} 2 & 1 & 3 \\\\ 6 & 3 & 9 \\\\ 4 & 2 & 6 \\end{bmatrix}$\n"
   ],
   "id": "159796d4b894ccb7"
  },
  {
   "cell_type": "code",
   "id": "initial_id",
   "metadata": {
    "collapsed": true,
    "ExecuteTime": {
     "end_time": "2024-12-02T15:55:21.947024Z",
     "start_time": "2024-12-02T15:55:21.937875Z"
    }
   },
   "source": [
    "import numpy as np\n",
    "\n",
    "# Define the matrices\n",
    "A = np.array([[1, 2], [3, 5]])\n",
    "B = np.array([[1, 3, -2], [3, 0, 6]])\n",
    "C = np.array([[2, 1, 3], [6, 3, 9], [4, 2, 6]])\n",
    "\n",
    "# Compute the ranks of the matrices\n",
    "rank_A = np.linalg.matrix_rank(A)\n",
    "rank_B = np.linalg.matrix_rank(B)\n",
    "rank_C = np.linalg.matrix_rank(C)\n",
    "\n",
    "# Check if the matrices are invertible\n",
    "# Щоб матриця Була оборотною вона повинна бути квадратною і її ранг повинен дорівнювати розмірності\n",
    "# Тому ми робимо перевірки і визначаєм чи вона оборотна чи ні \n",
    "is_A_invertible = rank_A == A.shape[0] and A.shape[0] == A.shape[1]\n",
    "is_B_invertible = rank_B == B.shape[0] and B.shape[0] == B.shape[1]\n",
    "is_C_invertible = rank_C == C.shape[0] and C.shape[0] == C.shape[1]\n",
    "\n",
    "(rank_A, is_A_invertible), (rank_B, is_B_invertible), (rank_C, is_C_invertible)"
   ],
   "outputs": [
    {
     "data": {
      "text/plain": [
       "((2, True), (2, False), (1, False))"
      ]
     },
     "execution_count": 3,
     "metadata": {},
     "output_type": "execute_result"
    }
   ],
   "execution_count": 3
  },
  {
   "metadata": {},
   "cell_type": "code",
   "outputs": [],
   "execution_count": null,
   "source": "",
   "id": "3565708f79efaddf"
  }
 ],
 "metadata": {
  "kernelspec": {
   "display_name": "Python 3",
   "language": "python",
   "name": "python3"
  },
  "language_info": {
   "codemirror_mode": {
    "name": "ipython",
    "version": 2
   },
   "file_extension": ".py",
   "mimetype": "text/x-python",
   "name": "python",
   "nbconvert_exporter": "python",
   "pygments_lexer": "ipython2",
   "version": "2.7.6"
  }
 },
 "nbformat": 4,
 "nbformat_minor": 5
}
